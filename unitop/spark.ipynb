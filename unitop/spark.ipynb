{
 "cells": [
  {
   "cell_type": "code",
   "execution_count": 1,
   "metadata": {},
   "outputs": [],
   "source": [
    "import pyspark\n",
    "from pyspark.sql import SparkSession\n",
    "from pyspark import SparkContext\n",
    "from pyspark.sql import SQLContext"
   ]
  },
  {
   "cell_type": "code",
   "execution_count": 2,
   "metadata": {},
   "outputs": [
    {
     "name": "stdout",
     "output_type": "stream",
     "text": [
      "3.5.1\n"
     ]
    }
   ],
   "source": [
    "print(pyspark.__version__)"
   ]
  },
  {
   "cell_type": "code",
   "execution_count": 2,
   "metadata": {},
   "outputs": [],
   "source": [
    "conf = pyspark.SparkConf().set(\"spark.jars.packages\", \"org.mongodb.spark:mongo-spark-connector_2.12:3.0.0\").setMaster(\"local\").setAppName(\"my app\").setAll([(\"spark.driver.memory\", \"40g\"), (\"spark.executor.memory\", \"40g\")])"
   ]
  },
  {
   "cell_type": "code",
   "execution_count": 3,
   "metadata": {},
   "outputs": [],
   "source": [
    "sc = SparkContext(conf=conf)"
   ]
  },
  {
   "cell_type": "code",
   "execution_count": 4,
   "metadata": {},
   "outputs": [
    {
     "name": "stderr",
     "output_type": "stream",
     "text": [
      "c:\\Users\\kietn\\AppData\\Local\\Programs\\Python\\Python310\\lib\\site-packages\\pyspark\\sql\\context.py:113: FutureWarning: Deprecated in 3.0.0. Use SparkSession.builder.getOrCreate() instead.\n",
      "  warnings.warn(\n"
     ]
    }
   ],
   "source": [
    "sqlC = SQLContext(sc)"
   ]
  },
  {
   "cell_type": "code",
   "execution_count": 5,
   "metadata": {},
   "outputs": [],
   "source": [
    "mongo_ip = \"mongodb://mymongodb:27017/dbmycrawler.\""
   ]
  },
  {
   "cell_type": "code",
   "execution_count": 7,
   "metadata": {},
   "outputs": [
    {
     "ename": "Py4JJavaError",
     "evalue": "An error occurred while calling o45.load.\n: com.mongodb.MongoTimeoutException: Timed out after 30000 ms while waiting to connect. Client view of cluster state is {type=UNKNOWN, servers=[{address=mymongodb:27017, type=UNKNOWN, state=CONNECTING, exception={com.mongodb.MongoSocketException: mymongodb}, caused by {java.net.UnknownHostException: mymongodb}}]\r\n\tat com.mongodb.internal.connection.BaseCluster.getDescription(BaseCluster.java:177)\r\n\tat com.mongodb.internal.connection.SingleServerCluster.getDescription(SingleServerCluster.java:41)\r\n\tat com.mongodb.client.internal.MongoClientDelegate.getConnectedClusterDescription(MongoClientDelegate.java:147)\r\n\tat com.mongodb.client.internal.MongoClientDelegate.createClientSession(MongoClientDelegate.java:98)\r\n\tat com.mongodb.client.internal.MongoClientDelegate$DelegateOperationExecutor.getClientSession(MongoClientDelegate.java:278)\r\n\tat com.mongodb.client.internal.MongoClientDelegate$DelegateOperationExecutor.execute(MongoClientDelegate.java:182)\r\n\tat com.mongodb.client.internal.MongoDatabaseImpl.executeCommand(MongoDatabaseImpl.java:194)\r\n\tat com.mongodb.client.internal.MongoDatabaseImpl.runCommand(MongoDatabaseImpl.java:163)\r\n\tat com.mongodb.client.internal.MongoDatabaseImpl.runCommand(MongoDatabaseImpl.java:158)\r\n\tat com.mongodb.spark.MongoConnector.$anonfun$hasSampleAggregateOperator$1(MongoConnector.scala:234)\r\n\tat com.mongodb.spark.MongoConnector.$anonfun$withDatabaseDo$1(MongoConnector.scala:171)\r\n\tat com.mongodb.spark.MongoConnector.withMongoClientDo(MongoConnector.scala:154)\r\n\tat com.mongodb.spark.MongoConnector.withDatabaseDo(MongoConnector.scala:171)\r\n\tat com.mongodb.spark.MongoConnector.hasSampleAggregateOperator(MongoConnector.scala:234)\r\n\tat com.mongodb.spark.rdd.MongoRDD.hasSampleAggregateOperator$lzycompute(MongoRDD.scala:221)\r\n\tat com.mongodb.spark.rdd.MongoRDD.hasSampleAggregateOperator(MongoRDD.scala:221)\r\n\tat com.mongodb.spark.sql.MongoInferSchema$.apply(MongoInferSchema.scala:68)\r\n\tat com.mongodb.spark.sql.DefaultSource.constructRelation(DefaultSource.scala:97)\r\n\tat com.mongodb.spark.sql.DefaultSource.createRelation(DefaultSource.scala:50)\r\n\tat org.apache.spark.sql.execution.datasources.DataSource.resolveRelation(DataSource.scala:346)\r\n\tat org.apache.spark.sql.DataFrameReader.loadV1Source(DataFrameReader.scala:229)\r\n\tat org.apache.spark.sql.DataFrameReader.$anonfun$load$2(DataFrameReader.scala:211)\r\n\tat scala.Option.getOrElse(Option.scala:189)\r\n\tat org.apache.spark.sql.DataFrameReader.load(DataFrameReader.scala:211)\r\n\tat org.apache.spark.sql.DataFrameReader.load(DataFrameReader.scala:172)\r\n\tat sun.reflect.NativeMethodAccessorImpl.invoke0(Native Method)\r\n\tat sun.reflect.NativeMethodAccessorImpl.invoke(NativeMethodAccessorImpl.java:62)\r\n\tat sun.reflect.DelegatingMethodAccessorImpl.invoke(DelegatingMethodAccessorImpl.java:43)\r\n\tat java.lang.reflect.Method.invoke(Method.java:498)\r\n\tat py4j.reflection.MethodInvoker.invoke(MethodInvoker.java:244)\r\n\tat py4j.reflection.ReflectionEngine.invoke(ReflectionEngine.java:374)\r\n\tat py4j.Gateway.invoke(Gateway.java:282)\r\n\tat py4j.commands.AbstractCommand.invokeMethod(AbstractCommand.java:132)\r\n\tat py4j.commands.CallCommand.execute(CallCommand.java:79)\r\n\tat py4j.ClientServerConnection.waitForCommands(ClientServerConnection.java:182)\r\n\tat py4j.ClientServerConnection.run(ClientServerConnection.java:106)\r\n\tat java.lang.Thread.run(Thread.java:748)\r\n",
     "output_type": "error",
     "traceback": [
      "\u001b[1;31m---------------------------------------------------------------------------\u001b[0m",
      "\u001b[1;31mPy4JJavaError\u001b[0m                             Traceback (most recent call last)",
      "Cell \u001b[1;32mIn[7], line 1\u001b[0m\n\u001b[1;32m----> 1\u001b[0m df \u001b[38;5;241m=\u001b[39m \u001b[43msqlC\u001b[49m\u001b[38;5;241;43m.\u001b[39;49m\u001b[43mread\u001b[49m\u001b[38;5;241;43m.\u001b[39;49m\u001b[43mformat\u001b[49m\u001b[43m(\u001b[49m\u001b[38;5;124;43m\"\u001b[39;49m\u001b[38;5;124;43mcom.mongodb.spark.sql.DefaultSource\u001b[39;49m\u001b[38;5;124;43m\"\u001b[39;49m\u001b[43m)\u001b[49m\u001b[38;5;241;43m.\u001b[39;49m\u001b[43moption\u001b[49m\u001b[43m(\u001b[49m\u001b[38;5;124;43m\"\u001b[39;49m\u001b[38;5;124;43muri\u001b[39;49m\u001b[38;5;124;43m\"\u001b[39;49m\u001b[43m,\u001b[49m\u001b[43m \u001b[49m\u001b[43mmongo_ip\u001b[49m\u001b[43m \u001b[49m\u001b[38;5;241;43m+\u001b[39;49m\u001b[43m \u001b[49m\u001b[38;5;124;43m\"\u001b[39;49m\u001b[38;5;124;43mtblunitop\u001b[39;49m\u001b[38;5;124;43m\"\u001b[39;49m\u001b[43m)\u001b[49m\u001b[38;5;241;43m.\u001b[39;49m\u001b[43moption\u001b[49m\u001b[43m(\u001b[49m\u001b[38;5;124;43m\"\u001b[39;49m\u001b[38;5;124;43mconnectTimeoutMS\u001b[39;49m\u001b[38;5;124;43m\"\u001b[39;49m\u001b[43m,\u001b[49m\u001b[43m \u001b[49m\u001b[38;5;124;43m\"\u001b[39;49m\u001b[38;5;124;43m60000\u001b[39;49m\u001b[38;5;124;43m\"\u001b[39;49m\u001b[43m)\u001b[49m\u001b[38;5;241;43m.\u001b[39;49m\u001b[43mload\u001b[49m\u001b[43m(\u001b[49m\u001b[43m)\u001b[49m\n",
      "File \u001b[1;32mc:\\Users\\kietn\\AppData\\Local\\Programs\\Python\\Python310\\lib\\site-packages\\pyspark\\sql\\readwriter.py:314\u001b[0m, in \u001b[0;36mDataFrameReader.load\u001b[1;34m(self, path, format, schema, **options)\u001b[0m\n\u001b[0;32m    312\u001b[0m     \u001b[38;5;28;01mreturn\u001b[39;00m \u001b[38;5;28mself\u001b[39m\u001b[38;5;241m.\u001b[39m_df(\u001b[38;5;28mself\u001b[39m\u001b[38;5;241m.\u001b[39m_jreader\u001b[38;5;241m.\u001b[39mload(\u001b[38;5;28mself\u001b[39m\u001b[38;5;241m.\u001b[39m_spark\u001b[38;5;241m.\u001b[39m_sc\u001b[38;5;241m.\u001b[39m_jvm\u001b[38;5;241m.\u001b[39mPythonUtils\u001b[38;5;241m.\u001b[39mtoSeq(path)))\n\u001b[0;32m    313\u001b[0m \u001b[38;5;28;01melse\u001b[39;00m:\n\u001b[1;32m--> 314\u001b[0m     \u001b[38;5;28;01mreturn\u001b[39;00m \u001b[38;5;28mself\u001b[39m\u001b[38;5;241m.\u001b[39m_df(\u001b[38;5;28;43mself\u001b[39;49m\u001b[38;5;241;43m.\u001b[39;49m\u001b[43m_jreader\u001b[49m\u001b[38;5;241;43m.\u001b[39;49m\u001b[43mload\u001b[49m\u001b[43m(\u001b[49m\u001b[43m)\u001b[49m)\n",
      "File \u001b[1;32mc:\\Users\\kietn\\AppData\\Local\\Programs\\Python\\Python310\\lib\\site-packages\\py4j\\java_gateway.py:1322\u001b[0m, in \u001b[0;36mJavaMember.__call__\u001b[1;34m(self, *args)\u001b[0m\n\u001b[0;32m   1316\u001b[0m command \u001b[38;5;241m=\u001b[39m proto\u001b[38;5;241m.\u001b[39mCALL_COMMAND_NAME \u001b[38;5;241m+\u001b[39m\\\n\u001b[0;32m   1317\u001b[0m     \u001b[38;5;28mself\u001b[39m\u001b[38;5;241m.\u001b[39mcommand_header \u001b[38;5;241m+\u001b[39m\\\n\u001b[0;32m   1318\u001b[0m     args_command \u001b[38;5;241m+\u001b[39m\\\n\u001b[0;32m   1319\u001b[0m     proto\u001b[38;5;241m.\u001b[39mEND_COMMAND_PART\n\u001b[0;32m   1321\u001b[0m answer \u001b[38;5;241m=\u001b[39m \u001b[38;5;28mself\u001b[39m\u001b[38;5;241m.\u001b[39mgateway_client\u001b[38;5;241m.\u001b[39msend_command(command)\n\u001b[1;32m-> 1322\u001b[0m return_value \u001b[38;5;241m=\u001b[39m \u001b[43mget_return_value\u001b[49m\u001b[43m(\u001b[49m\n\u001b[0;32m   1323\u001b[0m \u001b[43m    \u001b[49m\u001b[43manswer\u001b[49m\u001b[43m,\u001b[49m\u001b[43m \u001b[49m\u001b[38;5;28;43mself\u001b[39;49m\u001b[38;5;241;43m.\u001b[39;49m\u001b[43mgateway_client\u001b[49m\u001b[43m,\u001b[49m\u001b[43m \u001b[49m\u001b[38;5;28;43mself\u001b[39;49m\u001b[38;5;241;43m.\u001b[39;49m\u001b[43mtarget_id\u001b[49m\u001b[43m,\u001b[49m\u001b[43m \u001b[49m\u001b[38;5;28;43mself\u001b[39;49m\u001b[38;5;241;43m.\u001b[39;49m\u001b[43mname\u001b[49m\u001b[43m)\u001b[49m\n\u001b[0;32m   1325\u001b[0m \u001b[38;5;28;01mfor\u001b[39;00m temp_arg \u001b[38;5;129;01min\u001b[39;00m temp_args:\n\u001b[0;32m   1326\u001b[0m     \u001b[38;5;28;01mif\u001b[39;00m \u001b[38;5;28mhasattr\u001b[39m(temp_arg, \u001b[38;5;124m\"\u001b[39m\u001b[38;5;124m_detach\u001b[39m\u001b[38;5;124m\"\u001b[39m):\n",
      "File \u001b[1;32mc:\\Users\\kietn\\AppData\\Local\\Programs\\Python\\Python310\\lib\\site-packages\\pyspark\\errors\\exceptions\\captured.py:179\u001b[0m, in \u001b[0;36mcapture_sql_exception.<locals>.deco\u001b[1;34m(*a, **kw)\u001b[0m\n\u001b[0;32m    177\u001b[0m \u001b[38;5;28;01mdef\u001b[39;00m \u001b[38;5;21mdeco\u001b[39m(\u001b[38;5;241m*\u001b[39ma: Any, \u001b[38;5;241m*\u001b[39m\u001b[38;5;241m*\u001b[39mkw: Any) \u001b[38;5;241m-\u001b[39m\u001b[38;5;241m>\u001b[39m Any:\n\u001b[0;32m    178\u001b[0m     \u001b[38;5;28;01mtry\u001b[39;00m:\n\u001b[1;32m--> 179\u001b[0m         \u001b[38;5;28;01mreturn\u001b[39;00m f(\u001b[38;5;241m*\u001b[39ma, \u001b[38;5;241m*\u001b[39m\u001b[38;5;241m*\u001b[39mkw)\n\u001b[0;32m    180\u001b[0m     \u001b[38;5;28;01mexcept\u001b[39;00m Py4JJavaError \u001b[38;5;28;01mas\u001b[39;00m e:\n\u001b[0;32m    181\u001b[0m         converted \u001b[38;5;241m=\u001b[39m convert_exception(e\u001b[38;5;241m.\u001b[39mjava_exception)\n",
      "File \u001b[1;32mc:\\Users\\kietn\\AppData\\Local\\Programs\\Python\\Python310\\lib\\site-packages\\py4j\\protocol.py:326\u001b[0m, in \u001b[0;36mget_return_value\u001b[1;34m(answer, gateway_client, target_id, name)\u001b[0m\n\u001b[0;32m    324\u001b[0m value \u001b[38;5;241m=\u001b[39m OUTPUT_CONVERTER[\u001b[38;5;28mtype\u001b[39m](answer[\u001b[38;5;241m2\u001b[39m:], gateway_client)\n\u001b[0;32m    325\u001b[0m \u001b[38;5;28;01mif\u001b[39;00m answer[\u001b[38;5;241m1\u001b[39m] \u001b[38;5;241m==\u001b[39m REFERENCE_TYPE:\n\u001b[1;32m--> 326\u001b[0m     \u001b[38;5;28;01mraise\u001b[39;00m Py4JJavaError(\n\u001b[0;32m    327\u001b[0m         \u001b[38;5;124m\"\u001b[39m\u001b[38;5;124mAn error occurred while calling \u001b[39m\u001b[38;5;132;01m{0}\u001b[39;00m\u001b[38;5;132;01m{1}\u001b[39;00m\u001b[38;5;132;01m{2}\u001b[39;00m\u001b[38;5;124m.\u001b[39m\u001b[38;5;130;01m\\n\u001b[39;00m\u001b[38;5;124m\"\u001b[39m\u001b[38;5;241m.\u001b[39m\n\u001b[0;32m    328\u001b[0m         \u001b[38;5;28mformat\u001b[39m(target_id, \u001b[38;5;124m\"\u001b[39m\u001b[38;5;124m.\u001b[39m\u001b[38;5;124m\"\u001b[39m, name), value)\n\u001b[0;32m    329\u001b[0m \u001b[38;5;28;01melse\u001b[39;00m:\n\u001b[0;32m    330\u001b[0m     \u001b[38;5;28;01mraise\u001b[39;00m Py4JError(\n\u001b[0;32m    331\u001b[0m         \u001b[38;5;124m\"\u001b[39m\u001b[38;5;124mAn error occurred while calling \u001b[39m\u001b[38;5;132;01m{0}\u001b[39;00m\u001b[38;5;132;01m{1}\u001b[39;00m\u001b[38;5;132;01m{2}\u001b[39;00m\u001b[38;5;124m. Trace:\u001b[39m\u001b[38;5;130;01m\\n\u001b[39;00m\u001b[38;5;132;01m{3}\u001b[39;00m\u001b[38;5;130;01m\\n\u001b[39;00m\u001b[38;5;124m\"\u001b[39m\u001b[38;5;241m.\u001b[39m\n\u001b[0;32m    332\u001b[0m         \u001b[38;5;28mformat\u001b[39m(target_id, \u001b[38;5;124m\"\u001b[39m\u001b[38;5;124m.\u001b[39m\u001b[38;5;124m\"\u001b[39m, name, value))\n",
      "\u001b[1;31mPy4JJavaError\u001b[0m: An error occurred while calling o45.load.\n: com.mongodb.MongoTimeoutException: Timed out after 30000 ms while waiting to connect. Client view of cluster state is {type=UNKNOWN, servers=[{address=mymongodb:27017, type=UNKNOWN, state=CONNECTING, exception={com.mongodb.MongoSocketException: mymongodb}, caused by {java.net.UnknownHostException: mymongodb}}]\r\n\tat com.mongodb.internal.connection.BaseCluster.getDescription(BaseCluster.java:177)\r\n\tat com.mongodb.internal.connection.SingleServerCluster.getDescription(SingleServerCluster.java:41)\r\n\tat com.mongodb.client.internal.MongoClientDelegate.getConnectedClusterDescription(MongoClientDelegate.java:147)\r\n\tat com.mongodb.client.internal.MongoClientDelegate.createClientSession(MongoClientDelegate.java:98)\r\n\tat com.mongodb.client.internal.MongoClientDelegate$DelegateOperationExecutor.getClientSession(MongoClientDelegate.java:278)\r\n\tat com.mongodb.client.internal.MongoClientDelegate$DelegateOperationExecutor.execute(MongoClientDelegate.java:182)\r\n\tat com.mongodb.client.internal.MongoDatabaseImpl.executeCommand(MongoDatabaseImpl.java:194)\r\n\tat com.mongodb.client.internal.MongoDatabaseImpl.runCommand(MongoDatabaseImpl.java:163)\r\n\tat com.mongodb.client.internal.MongoDatabaseImpl.runCommand(MongoDatabaseImpl.java:158)\r\n\tat com.mongodb.spark.MongoConnector.$anonfun$hasSampleAggregateOperator$1(MongoConnector.scala:234)\r\n\tat com.mongodb.spark.MongoConnector.$anonfun$withDatabaseDo$1(MongoConnector.scala:171)\r\n\tat com.mongodb.spark.MongoConnector.withMongoClientDo(MongoConnector.scala:154)\r\n\tat com.mongodb.spark.MongoConnector.withDatabaseDo(MongoConnector.scala:171)\r\n\tat com.mongodb.spark.MongoConnector.hasSampleAggregateOperator(MongoConnector.scala:234)\r\n\tat com.mongodb.spark.rdd.MongoRDD.hasSampleAggregateOperator$lzycompute(MongoRDD.scala:221)\r\n\tat com.mongodb.spark.rdd.MongoRDD.hasSampleAggregateOperator(MongoRDD.scala:221)\r\n\tat com.mongodb.spark.sql.MongoInferSchema$.apply(MongoInferSchema.scala:68)\r\n\tat com.mongodb.spark.sql.DefaultSource.constructRelation(DefaultSource.scala:97)\r\n\tat com.mongodb.spark.sql.DefaultSource.createRelation(DefaultSource.scala:50)\r\n\tat org.apache.spark.sql.execution.datasources.DataSource.resolveRelation(DataSource.scala:346)\r\n\tat org.apache.spark.sql.DataFrameReader.loadV1Source(DataFrameReader.scala:229)\r\n\tat org.apache.spark.sql.DataFrameReader.$anonfun$load$2(DataFrameReader.scala:211)\r\n\tat scala.Option.getOrElse(Option.scala:189)\r\n\tat org.apache.spark.sql.DataFrameReader.load(DataFrameReader.scala:211)\r\n\tat org.apache.spark.sql.DataFrameReader.load(DataFrameReader.scala:172)\r\n\tat sun.reflect.NativeMethodAccessorImpl.invoke0(Native Method)\r\n\tat sun.reflect.NativeMethodAccessorImpl.invoke(NativeMethodAccessorImpl.java:62)\r\n\tat sun.reflect.DelegatingMethodAccessorImpl.invoke(DelegatingMethodAccessorImpl.java:43)\r\n\tat java.lang.reflect.Method.invoke(Method.java:498)\r\n\tat py4j.reflection.MethodInvoker.invoke(MethodInvoker.java:244)\r\n\tat py4j.reflection.ReflectionEngine.invoke(ReflectionEngine.java:374)\r\n\tat py4j.Gateway.invoke(Gateway.java:282)\r\n\tat py4j.commands.AbstractCommand.invokeMethod(AbstractCommand.java:132)\r\n\tat py4j.commands.CallCommand.execute(CallCommand.java:79)\r\n\tat py4j.ClientServerConnection.waitForCommands(ClientServerConnection.java:182)\r\n\tat py4j.ClientServerConnection.run(ClientServerConnection.java:106)\r\n\tat java.lang.Thread.run(Thread.java:748)\r\n"
     ]
    }
   ],
   "source": [
    "df = sqlC.read.format(\"com.mongodb.spark.sql.DefaultSource\").option(\"uri\", mongo_ip + \"tblunitop\").option(\"connectTimeoutMS\", \"60000\").load()"
   ]
  },
  {
   "cell_type": "code",
   "execution_count": 11,
   "metadata": {},
   "outputs": [],
   "source": [
    "#lưu vào collection\n",
    "df.write.format(\"com.mongodb.spark.sql.DefaultSource\").mode(\"append\").option(\"uri\", mongo_ip + \"tb_book_2\").save()"
   ]
  },
  {
   "cell_type": "code",
   "execution_count": 7,
   "metadata": {},
   "outputs": [
    {
     "ename": "NameError",
     "evalue": "name 'tblunitop' is not defined",
     "output_type": "error",
     "traceback": [
      "\u001b[1;31m---------------------------------------------------------------------------\u001b[0m",
      "\u001b[1;31mNameError\u001b[0m                                 Traceback (most recent call last)",
      "Cell \u001b[1;32mIn[7], line 1\u001b[0m\n\u001b[1;32m----> 1\u001b[0m \u001b[43mtblunitop\u001b[49m\u001b[38;5;241m.\u001b[39mshow()\n",
      "\u001b[1;31mNameError\u001b[0m: name 'tblunitop' is not defined"
     ]
    }
   ],
   "source": [
    "tblunitop.show()"
   ]
  },
  {
   "cell_type": "code",
   "execution_count": 12,
   "metadata": {},
   "outputs": [
    {
     "name": "stdout",
     "output_type": "stream",
     "text": [
      "root\n",
      " |-- _id: struct (nullable = true)\n",
      " |    |-- oid: string (nullable = true)\n",
      " |-- author: string (nullable = true)\n",
      " |-- bookUrl: string (nullable = true)\n",
      " |-- bookname: string (nullable = true)\n",
      " |-- describe: string (nullable = true)\n",
      " |-- fivestars: string (nullable = true)\n",
      " |-- fourstars: string (nullable = true)\n",
      " |-- number: integer (nullable = true)\n",
      " |-- onestar: string (nullable = true)\n",
      " |-- pages: string (nullable = true)\n",
      " |-- prices: string (nullable = true)\n",
      " |-- publish: string (nullable = true)\n",
      " |-- rating: string (nullable = true)\n",
      " |-- ratingcount: string (nullable = true)\n",
      " |-- reviews: string (nullable = true)\n",
      " |-- threestars: string (nullable = true)\n",
      " |-- twostars: string (nullable = true)\n",
      "\n"
     ]
    }
   ],
   "source": [
    "tblunitop.printSchema()"
   ]
  },
  {
   "cell_type": "code",
   "execution_count": 8,
   "metadata": {},
   "outputs": [
    {
     "name": "stdout",
     "output_type": "stream",
     "text": [
      "+--------------------+-------------------+--------------------+--------------------+--------------------+---------------+---------------+------+------------+--------------------+--------------------+--------------------+------+-----------+-------+---------------+-------------+\n",
      "|                 _id|             author|             bookUrl|            bookname|            describe|      fivestars|      fourstars|number|     onestar|               pages|              prices|             publish|rating|ratingcount|reviews|     threestars|     twostars|\n",
      "+--------------------+-------------------+--------------------+--------------------+--------------------+---------------+---------------+------+------------+--------------------+--------------------+--------------------+------+-----------+-------+---------------+-------------+\n",
      "|{66e2ed9239d4c13f...|   Kathryn Stockett|https://www.goodr...|            The Help|Three ordinary wo...|1,717,764 (60%)|  812,459 (28%)|     1|26,025 (<1%)|464 pages, Hardcover|       Kindle $14.99|First published F...|  4.47|  2,831,938| 91,479|   230,660 (8%)|  45,030 (1%)|\n",
      "|{66e2ed9339d4c13f...|        Kim Edwards|https://www.goodr...|The Memory Keeper...|On a winter night...|  146,517 (24%)|  220,173 (36%)|    34| 20,667 (3%)|401 pages, Paperback|       Kindle $13.99|First published J...|  3.70|    603,766| 20,838|  165,383 (27%)|  51,026 (8%)|\n",
      "|{66e2ed9539d4c13f...|  Diane Setterfield|https://www.goodr...| The Thirteenth Tale|All children myth...|  110,130 (34%)|  118,647 (37%)|    32|  6,199 (1%)|406 pages, Hardcover|       Kindle $13.99|First published S...|  3.98|    316,922| 27,005|   65,129 (20%)|  16,817 (5%)|\n",
      "|{66e2ed9539d4c13f...|F. Scott Fitzgerald|https://www.goodr...|    The Great Gatsby|The Great Gatsby,...|1,902,280 (35%)|1,824,119 (33%)|    30|150,304 (2%)|180 pages, Paperback|        Kindle $2.99|First published A...|  3.93|  5,381,324|110,427|1,156,642 (21%)| 347,979 (6%)|\n",
      "|{66e2ed9739d4c13f...|  Jeffrey Eugenides|https://www.goodr...|           Middlesex|Middlesex tells t...|  263,845 (40%)|  217,699 (33%)|    29| 21,318 (3%)|529 pages, Paperback|Kindle Unlimited ...|First published S...|  4.03|    645,747| 26,754|  107,871 (16%)|  35,014 (5%)|\n",
      "|{66e2ed9739d4c13f...|        Betty Smith|https://www.goodr...|A Tree Grows in B...|The beloved Ameri...|  243,030 (50%)|  155,359 (32%)|    33|  5,166 (1%)|496 pages, Paperback|Kindle Unlimited ...|First published A...|  4.30|    476,728| 28,396|   60,213 (12%)|  12,960 (2%)|\n",
      "|{66e2ed9739d4c13f...|   Charlotte Brontë|https://www.goodr...|           Jane Eyre|Alternate edition...|  998,351 (46%)|  663,696 (31%)|    28| 51,915 (2%)|532 pages, Paperback|        Kindle $3.53|First published O...|  4.15|  2,138,868| 68,095|  328,911 (15%)|  95,995 (4%)|\n",
      "|{66e2ed9b39d4c13f...|      J.D. Salinger|https://www.goodr...|The Catcher in th...|It's Christmas ti...|1,229,778 (34%)|1,111,537 (30%)|    31|181,339 (5%)|277 pages, Paperback|        Kindle $9.99|First published J...|  3.80|  3,610,473| 88,995|  775,557 (21%)| 312,262 (8%)|\n",
      "|{66e2ed9e39d4c13f...|  Elizabeth Gilbert|https://www.goodr...|     Eat, Pray, Love|A celebrated writ...|  527,209 (29%)|  498,267 (28%)|    26|122,795 (6%)|368 pages, Paperback|       Kindle $11.99|First published F...|  3.63|  1,770,133| 58,997|  431,178 (24%)|190,684 (10%)|\n",
      "|{66e2eda139d4c13f...|      Emma Donoghue|https://www.goodr...|                Room|To five-year-old-...|  311,278 (38%)|  315,550 (38%)|    25| 14,711 (1%)|321 pages, Kindle...|Kindle Unlimited ...|First published A...|  4.08|    812,795| 51,148|  136,969 (16%)|  34,287 (4%)|\n",
      "|{66e2eda239d4c13f...|           Lisa See|https://www.goodr...|Snow Flower and t...|In nineteenth-cen...|  141,547 (37%)|  148,994 (39%)|    27|  4,393 (1%)|288 pages, Kindle...|       Kindle $12.99|First published F...|  4.09|    376,359| 20,114|   67,972 (18%)|  13,453 (3%)|\n",
      "|{66e2eda339d4c13f...|         Anne Frank|https://www.goodr...|The Diary of a Yo...|Discovered in the...|1,866,190 (48%)|1,164,331 (30%)|    24| 86,342 (2%)|283 pages, Mass M...|        Kindle $2.51|First published J...|  4.19|  3,836,781| 43,122|  573,628 (14%)| 146,290 (3%)|\n",
      "|{66e2eda739d4c13f...|      George Orwell|https://www.goodr...|                1984|A masterpiece of ...|2,257,895 (47%)|1,565,027 (32%)|    22| 97,284 (2%)|368 pages, Paperback|Kindle Unlimited ...|First published J...|  4.19|  4,781,558|123,666|  679,341 (14%)| 182,011 (3%)|\n",
      "|{66e2eda839d4c13f...|  Tatiana de Rosnay|https://www.goodr...|         Sarah's Key|Paris, July 1942:...|  205,407 (42%)|  181,657 (37%)|    23|  5,369 (1%)|294 pages, Hardcover|       Kindle $11.99|First published S...|  4.18|    480,477| 31,558|   71,832 (14%)|  16,212 (3%)|\n",
      "|{66e2edac39d4c13f...| Barbara Kingsolver|https://www.goodr...|The Poisonwood Bible|The Poisonwood Bi...|  342,355 (45%)|  234,683 (31%)|    20| 24,111 (3%)|546 pages, Paperback|       Kindle $14.49|First published S...|  4.10|    756,053| 28,556|  115,256 (15%)|  39,648 (5%)|\n",
      "|{66e2edae39d4c13f...|      Stieg Larsson|https://www.goodr...|The Girl with the...|Harriet Vanger, a...|1,514,106 (46%)|1,074,112 (33%)|    21| 89,298 (2%)|480 pages, Hardcover|    Shop this series|First published A...|  4.17|  3,246,004| 79,204|  440,501 (13%)| 127,987 (3%)|\n",
      "|{66e2edb339d4c13f...|          Ken Kesey|https://www.goodr...|One Flew Over the...|Alternate cover e...|  329,281 (44%)|  273,038 (36%)|    99|  8,419 (1%)|325 pages, Mass M...|        Kindle $9.99|First published F...|  4.20|    744,015| 16,744|  110,077 (14%)|  23,200 (3%)|\n",
      "|{66e2edb339d4c13f...|     Lionel Shriver|https://www.goodr...|We Need to Talk A...|The gripping inte...|   83,025 (41%)|   71,097 (35%)|   100|  6,322 (3%)|400 pages, Paperback|       Kindle $14.99|First published A...|  4.08|    199,357| 17,627|   29,149 (14%)|   9,764 (4%)|\n",
      "|{66e2edb439d4c13f...|        R.D. Ronald|https://www.goodr...|   The Elephant Tree|Mark Fallon is an...|    9,668 (34%)|    7,735 (27%)|    98|  2,210 (7%)|252 pages, Paperback|        Kindle $3.99|First published A...|  3.72|     27,931|    435|    5,680 (20%)|   2,638 (9%)|\n",
      "|{66e2edb839d4c13f...|          Dan Brown|https://www.goodr...|   The Da Vinci Code|Alternate covers ...|  855,979 (35%)|  821,543 (34%)|    96| 87,184 (3%)|489 pages, Paperback|    Shop this series|First published J...|  3.92|  2,392,320| 55,913|  468,503 (19%)| 159,111 (6%)|\n",
      "+--------------------+-------------------+--------------------+--------------------+--------------------+---------------+---------------+------+------------+--------------------+--------------------+--------------------+------+-----------+-------+---------------+-------------+\n",
      "only showing top 20 rows\n",
      "\n"
     ]
    }
   ],
   "source": [
    "\n",
    "df.show()"
   ]
  },
  {
   "cell_type": "code",
   "execution_count": 9,
   "metadata": {},
   "outputs": [],
   "source": [
    "from pyspark.sql.functions import regexp_replace, col, split, regexp_extract, when , date_format, to_date\n"
   ]
  },
  {
   "cell_type": "code",
   "execution_count": 16,
   "metadata": {},
   "outputs": [],
   "source": [
    "#chuyển rating thành float\n",
    "df = df.withColumn(\"rating\", df[\"rating\"].cast(\"float\"))\n",
    "# chuyển rating_count thành int\n",
    "df = df.withColumn(\"rating_count\", df[\"rating_count\"].cast(\"int\"))\n",
    "# chuyển review_count thành int\n",
    "df = df.withColumn(\"review_count\", df[\"review_count\"].cast(\"int\"))\n",
    "# chuyển one_star thành int\n"
   ]
  },
  {
   "cell_type": "code",
   "execution_count": 10,
   "metadata": {},
   "outputs": [
    {
     "name": "stdout",
     "output_type": "stream",
     "text": [
      "root\n",
      " |-- _id: struct (nullable = true)\n",
      " |    |-- oid: string (nullable = true)\n",
      " |-- author: string (nullable = true)\n",
      " |-- bookUrl: string (nullable = true)\n",
      " |-- bookname: string (nullable = true)\n",
      " |-- describe: string (nullable = true)\n",
      " |-- fivestars: string (nullable = true)\n",
      " |-- fourstars: string (nullable = true)\n",
      " |-- number: integer (nullable = true)\n",
      " |-- onestar: string (nullable = true)\n",
      " |-- pages: string (nullable = true)\n",
      " |-- prices: string (nullable = true)\n",
      " |-- publish: string (nullable = true)\n",
      " |-- rating: string (nullable = true)\n",
      " |-- ratingcount: string (nullable = true)\n",
      " |-- reviews: string (nullable = true)\n",
      " |-- threestars: string (nullable = true)\n",
      " |-- twostars: string (nullable = true)\n",
      "\n"
     ]
    }
   ],
   "source": [
    "df.printSchema()"
   ]
  },
  {
   "cell_type": "code",
   "execution_count": 11,
   "metadata": {},
   "outputs": [],
   "source": [
    "df = df.withColumn(\"onestar\", regexp_replace(col(\"onestar\"), r\"[^\\d]\", \"\"))\n",
    "df = df.withColumn(\"twostars\", regexp_replace(col(\"twostars\"), r\"[^\\d]\", \"\"))\n",
    "df = df.withColumn(\"threestars\", regexp_replace(col(\"threestars\"), r\"[^\\d]\", \"\"))\n",
    "df = df.withColumn(\"fourstars\", regexp_replace(col(\"fourstars\"), r\"[^\\d]\", \"\"))\n",
    "df = df.withColumn(\"fivestars\", regexp_replace(col(\"fivestars\"), r\"[^\\d]\", \"\"))"
   ]
  },
  {
   "cell_type": "code",
   "execution_count": 12,
   "metadata": {},
   "outputs": [
    {
     "name": "stdout",
     "output_type": "stream",
     "text": [
      "+--------------------+-------------------+--------------------+--------------------+--------------------+---------+---------+------+-------+--------------------+--------------------+--------------------+------+-----------+-------+----------+--------+\n",
      "|                 _id|             author|             bookUrl|            bookname|            describe|fivestars|fourstars|number|onestar|               pages|              prices|             publish|rating|ratingcount|reviews|threestars|twostars|\n",
      "+--------------------+-------------------+--------------------+--------------------+--------------------+---------+---------+------+-------+--------------------+--------------------+--------------------+------+-----------+-------+----------+--------+\n",
      "|{66e2ed9239d4c13f...|   Kathryn Stockett|https://www.goodr...|            The Help|Three ordinary wo...|171776460| 81245928|     1| 260251|464 pages, Hardcover|       Kindle $14.99|First published F...|  4.47|  2,831,938| 91,479|   2306608|  450301|\n",
      "|{66e2ed9339d4c13f...|        Kim Edwards|https://www.goodr...|The Memory Keeper...|On a winter night...| 14651724| 22017336|    34| 206673|401 pages, Paperback|       Kindle $13.99|First published J...|  3.70|    603,766| 20,838|  16538327|  510268|\n",
      "|{66e2ed9539d4c13f...|  Diane Setterfield|https://www.goodr...| The Thirteenth Tale|All children myth...| 11013034| 11864737|    32|  61991|406 pages, Hardcover|       Kindle $13.99|First published S...|  3.98|    316,922| 27,005|   6512920|  168175|\n",
      "|{66e2ed9539d4c13f...|F. Scott Fitzgerald|https://www.goodr...|    The Great Gatsby|The Great Gatsby,...|190228035|182411933|    30|1503042|180 pages, Paperback|        Kindle $2.99|First published A...|  3.93|  5,381,324|110,427| 115664221| 3479796|\n",
      "|{66e2ed9739d4c13f...|  Jeffrey Eugenides|https://www.goodr...|           Middlesex|Middlesex tells t...| 26384540| 21769933|    29| 213183|529 pages, Paperback|Kindle Unlimited ...|First published S...|  4.03|    645,747| 26,754|  10787116|  350145|\n",
      "|{66e2ed9739d4c13f...|        Betty Smith|https://www.goodr...|A Tree Grows in B...|The beloved Ameri...| 24303050| 15535932|    33|  51661|496 pages, Paperback|Kindle Unlimited ...|First published A...|  4.30|    476,728| 28,396|   6021312|  129602|\n",
      "|{66e2ed9739d4c13f...|   Charlotte Brontë|https://www.goodr...|           Jane Eyre|Alternate edition...| 99835146| 66369631|    28| 519152|532 pages, Paperback|        Kindle $3.53|First published O...|  4.15|  2,138,868| 68,095|  32891115|  959954|\n",
      "|{66e2ed9b39d4c13f...|      J.D. Salinger|https://www.goodr...|The Catcher in th...|It's Christmas ti...|122977834|111153730|    31|1813395|277 pages, Paperback|        Kindle $9.99|First published J...|  3.80|  3,610,473| 88,995|  77555721| 3122628|\n",
      "|{66e2ed9e39d4c13f...|  Elizabeth Gilbert|https://www.goodr...|     Eat, Pray, Love|A celebrated writ...| 52720929| 49826728|    26|1227956|368 pages, Paperback|       Kindle $11.99|First published F...|  3.63|  1,770,133| 58,997|  43117824|19068410|\n",
      "|{66e2eda139d4c13f...|      Emma Donoghue|https://www.goodr...|                Room|To five-year-old-...| 31127838| 31555038|    25| 147111|321 pages, Kindle...|Kindle Unlimited ...|First published A...|  4.08|    812,795| 51,148|  13696916|  342874|\n",
      "|{66e2eda239d4c13f...|           Lisa See|https://www.goodr...|Snow Flower and t...|In nineteenth-cen...| 14154737| 14899439|    27|  43931|288 pages, Kindle...|       Kindle $12.99|First published F...|  4.09|    376,359| 20,114|   6797218|  134533|\n",
      "|{66e2eda339d4c13f...|         Anne Frank|https://www.goodr...|The Diary of a Yo...|Discovered in the...|186619048|116433130|    24| 863422|283 pages, Mass M...|        Kindle $2.51|First published J...|  4.19|  3,836,781| 43,122|  57362814| 1462903|\n",
      "|{66e2eda739d4c13f...|      George Orwell|https://www.goodr...|                1984|A masterpiece of ...|225789547|156502732|    22| 972842|368 pages, Paperback|Kindle Unlimited ...|First published J...|  4.19|  4,781,558|123,666|  67934114| 1820113|\n",
      "|{66e2eda839d4c13f...|  Tatiana de Rosnay|https://www.goodr...|         Sarah's Key|Paris, July 1942:...| 20540742| 18165737|    23|  53691|294 pages, Hardcover|       Kindle $11.99|First published S...|  4.18|    480,477| 31,558|   7183214|  162123|\n",
      "|{66e2edac39d4c13f...| Barbara Kingsolver|https://www.goodr...|The Poisonwood Bible|The Poisonwood Bi...| 34235545| 23468331|    20| 241113|546 pages, Paperback|       Kindle $14.49|First published S...|  4.10|    756,053| 28,556|  11525615|  396485|\n",
      "|{66e2edae39d4c13f...|      Stieg Larsson|https://www.goodr...|The Girl with the...|Harriet Vanger, a...|151410646|107411233|    21| 892982|480 pages, Hardcover|    Shop this series|First published A...|  4.17|  3,246,004| 79,204|  44050113| 1279873|\n",
      "|{66e2edb339d4c13f...|          Ken Kesey|https://www.goodr...|One Flew Over the...|Alternate cover e...| 32928144| 27303836|    99|  84191|325 pages, Mass M...|        Kindle $9.99|First published F...|  4.20|    744,015| 16,744|  11007714|  232003|\n",
      "|{66e2edb339d4c13f...|     Lionel Shriver|https://www.goodr...|We Need to Talk A...|The gripping inte...|  8302541|  7109735|   100|  63223|400 pages, Paperback|       Kindle $14.99|First published A...|  4.08|    199,357| 17,627|   2914914|   97644|\n",
      "|{66e2edb439d4c13f...|        R.D. Ronald|https://www.goodr...|   The Elephant Tree|Mark Fallon is an...|   966834|   773527|    98|  22107|252 pages, Paperback|        Kindle $3.99|First published A...|  3.72|     27,931|    435|    568020|   26389|\n",
      "|{66e2edb839d4c13f...|          Dan Brown|https://www.goodr...|   The Da Vinci Code|Alternate covers ...| 85597935| 82154334|    96| 871843|489 pages, Paperback|    Shop this series|First published J...|  3.92|  2,392,320| 55,913|  46850319| 1591116|\n",
      "+--------------------+-------------------+--------------------+--------------------+--------------------+---------+---------+------+-------+--------------------+--------------------+--------------------+------+-----------+-------+----------+--------+\n",
      "only showing top 20 rows\n",
      "\n"
     ]
    }
   ],
   "source": [
    "df.show()"
   ]
  },
  {
   "cell_type": "code",
   "execution_count": 13,
   "metadata": {},
   "outputs": [],
   "source": [
    "df = df.withColumn(\"pages_n\", regexp_extract(col(\"pages\"), r\"(\\d+)\", 1))\n",
    "df = df.withColumn(\"cover\", regexp_extract(col(\"pages\"), r\",\\s*(.*)\", 1))"
   ]
  },
  {
   "cell_type": "code",
   "execution_count": 14,
   "metadata": {},
   "outputs": [],
   "source": [
    "df = df.withColumn(\"prices\", when(df[\"prices\"].like(\"Kindle%\"), regexp_extract(col(\"prices\"), r\"\\$(\\d+\\.\\d{2})\", 1)).otherwise(0))"
   ]
  },
  {
   "cell_type": "code",
   "execution_count": 15,
   "metadata": {},
   "outputs": [],
   "source": [
    "df = df.withColumn(\"publish\", regexp_extract(col(\"publish\"), r\"(\\w+ \\d{1,2}, \\d{4})\", 1))\n",
    "\n",
    "# Chuyển đổi định dạng ngày từ chuỗi thành định dạng ngày thực tế\n",
    "df = df.withColumn(\"publish\", to_date(col(\"publish\"), \"MMMM d, yyyy\"))\n",
    "\n",
    "# Chuyển định dạng ngày thành 'dd/MM/yyyy'\n",
    "df = df.withColumn(\"publish\", date_format(col(\"publish\"), \"dd/MM/yyyy\"))"
   ]
  },
  {
   "cell_type": "code",
   "execution_count": 16,
   "metadata": {},
   "outputs": [],
   "source": [
    "# bỏ cột pages\n",
    "df = df.drop(\"pages\")"
   ]
  },
  {
   "cell_type": "code",
   "execution_count": 25,
   "metadata": {},
   "outputs": [],
   "source": [
    "# ép kiểu các cột thành int\n",
    "df = df.withColumn(\"pages_n\", df[\"pages_n\"].cast(\"int\"))\n",
    "df = df.withColumn(\"prices\", df[\"prices\"].cast(\"float\"))\n",
    "df = df.withColumn(\"onestar\", df[\"onestar\"].cast(\"int\"))\n",
    "df = df.withColumn(\"twostars\", df[\"twostars\"].cast(\"int\"))\n",
    "df = df.withColumn(\"threestars\", df[\"threestars\"].cast(\"int\"))\n",
    "df = df.withColumn(\"fourstars\", df[\"fourstars\"].cast(\"int\"))\n",
    "df = df.withColumn(\"fivestars\", df[\"fivestars\"].cast(\"int\"))\n",
    "df = df.withColumn(\"publish\", df[\"publish\"].cast(\"date\"))\n",
    "df = df.withColumn(\"rating\", df[\"rating\"].cast(\"float\"))\n",
    "df = df.withColumn(\"ratingcount\", df[\"ratingcount\"].cast(\"int\"))\n",
    "df = df.withColumn(\"reviews\", df[\"reviews\"].cast(\"int\"))\n"
   ]
  },
  {
   "cell_type": "code",
   "execution_count": 26,
   "metadata": {},
   "outputs": [
    {
     "name": "stdout",
     "output_type": "stream",
     "text": [
      "root\n",
      " |-- _id: struct (nullable = true)\n",
      " |    |-- oid: string (nullable = true)\n",
      " |-- author: string (nullable = true)\n",
      " |-- bookUrl: string (nullable = true)\n",
      " |-- bookname: string (nullable = true)\n",
      " |-- describe: string (nullable = true)\n",
      " |-- fivestars: integer (nullable = true)\n",
      " |-- fourstars: integer (nullable = true)\n",
      " |-- number: integer (nullable = true)\n",
      " |-- onestar: integer (nullable = true)\n",
      " |-- prices: float (nullable = true)\n",
      " |-- publish: date (nullable = true)\n",
      " |-- rating: float (nullable = true)\n",
      " |-- ratingcount: integer (nullable = true)\n",
      " |-- reviews: integer (nullable = true)\n",
      " |-- threestars: integer (nullable = true)\n",
      " |-- twostars: integer (nullable = true)\n",
      " |-- pages_n: integer (nullable = true)\n",
      " |-- cover: string (nullable = true)\n",
      "\n"
     ]
    }
   ],
   "source": [
    "df.printSchema()"
   ]
  },
  {
   "cell_type": "code",
   "execution_count": 27,
   "metadata": {},
   "outputs": [
    {
     "name": "stdout",
     "output_type": "stream",
     "text": [
      "+--------------------+-------------------+--------------------+--------------------+--------------------+---------+---------+------+-------+------+-------+------+-----------+-------+----------+--------+-------+--------------------+\n",
      "|                 _id|             author|             bookUrl|            bookname|            describe|fivestars|fourstars|number|onestar|prices|publish|rating|ratingcount|reviews|threestars|twostars|pages_n|               cover|\n",
      "+--------------------+-------------------+--------------------+--------------------+--------------------+---------+---------+------+-------+------+-------+------+-----------+-------+----------+--------+-------+--------------------+\n",
      "|{66e2ed9239d4c13f...|   Kathryn Stockett|https://www.goodr...|            The Help|Three ordinary wo...|171776460| 81245928|     1| 260251| 14.99|   NULL|  4.47|       NULL|   NULL|   2306608|  450301|    464|           Hardcover|\n",
      "|{66e2ed9339d4c13f...|        Kim Edwards|https://www.goodr...|The Memory Keeper...|On a winter night...| 14651724| 22017336|    34| 206673| 13.99|   NULL|   3.7|       NULL|   NULL|  16538327|  510268|    401|           Paperback|\n",
      "|{66e2ed9539d4c13f...|  Diane Setterfield|https://www.goodr...| The Thirteenth Tale|All children myth...| 11013034| 11864737|    32|  61991| 13.99|   NULL|  3.98|       NULL|   NULL|   6512920|  168175|    406|           Hardcover|\n",
      "|{66e2ed9539d4c13f...|F. Scott Fitzgerald|https://www.goodr...|    The Great Gatsby|The Great Gatsby,...|190228035|182411933|    30|1503042|  2.99|   NULL|  3.93|       NULL|   NULL| 115664221| 3479796|    180|           Paperback|\n",
      "|{66e2ed9739d4c13f...|  Jeffrey Eugenides|https://www.goodr...|           Middlesex|Middlesex tells t...| 26384540| 21769933|    29| 213183|   0.0|   NULL|  4.03|       NULL|   NULL|  10787116|  350145|    529|           Paperback|\n",
      "|{66e2ed9739d4c13f...|        Betty Smith|https://www.goodr...|A Tree Grows in B...|The beloved Ameri...| 24303050| 15535932|    33|  51661|   0.0|   NULL|   4.3|       NULL|   NULL|   6021312|  129602|    496|           Paperback|\n",
      "|{66e2ed9739d4c13f...|   Charlotte Brontë|https://www.goodr...|           Jane Eyre|Alternate edition...| 99835146| 66369631|    28| 519152|  3.53|   NULL|  4.15|       NULL|   NULL|  32891115|  959954|    532|           Paperback|\n",
      "|{66e2ed9b39d4c13f...|      J.D. Salinger|https://www.goodr...|The Catcher in th...|It's Christmas ti...|122977834|111153730|    31|1813395|  9.99|   NULL|   3.8|       NULL|   NULL|  77555721| 3122628|    277|           Paperback|\n",
      "|{66e2ed9e39d4c13f...|  Elizabeth Gilbert|https://www.goodr...|     Eat, Pray, Love|A celebrated writ...| 52720929| 49826728|    26|1227956| 11.99|   NULL|  3.63|       NULL|   NULL|  43117824|19068410|    368|           Paperback|\n",
      "|{66e2eda139d4c13f...|      Emma Donoghue|https://www.goodr...|                Room|To five-year-old-...| 31127838| 31555038|    25| 147111|   0.0|   NULL|  4.08|       NULL|   NULL|  13696916|  342874|    321|      Kindle Edition|\n",
      "|{66e2eda239d4c13f...|           Lisa See|https://www.goodr...|Snow Flower and t...|In nineteenth-cen...| 14154737| 14899439|    27|  43931| 12.99|   NULL|  4.09|       NULL|   NULL|   6797218|  134533|    288|      Kindle Edition|\n",
      "|{66e2eda339d4c13f...|         Anne Frank|https://www.goodr...|The Diary of a Yo...|Discovered in the...|186619048|116433130|    24| 863422|  2.51|   NULL|  4.19|       NULL|   NULL|  57362814| 1462903|    283|Mass Market Paper...|\n",
      "|{66e2eda739d4c13f...|      George Orwell|https://www.goodr...|                1984|A masterpiece of ...|225789547|156502732|    22| 972842|   0.0|   NULL|  4.19|       NULL|   NULL|  67934114| 1820113|    368|           Paperback|\n",
      "|{66e2eda839d4c13f...|  Tatiana de Rosnay|https://www.goodr...|         Sarah's Key|Paris, July 1942:...| 20540742| 18165737|    23|  53691| 11.99|   NULL|  4.18|       NULL|   NULL|   7183214|  162123|    294|           Hardcover|\n",
      "|{66e2edac39d4c13f...| Barbara Kingsolver|https://www.goodr...|The Poisonwood Bible|The Poisonwood Bi...| 34235545| 23468331|    20| 241113| 14.49|   NULL|   4.1|       NULL|   NULL|  11525615|  396485|    546|           Paperback|\n",
      "|{66e2edae39d4c13f...|      Stieg Larsson|https://www.goodr...|The Girl with the...|Harriet Vanger, a...|151410646|107411233|    21| 892982|   0.0|   NULL|  4.17|       NULL|   NULL|  44050113| 1279873|    480|           Hardcover|\n",
      "|{66e2edb339d4c13f...|          Ken Kesey|https://www.goodr...|One Flew Over the...|Alternate cover e...| 32928144| 27303836|    99|  84191|  9.99|   NULL|   4.2|       NULL|   NULL|  11007714|  232003|    325|Mass Market Paper...|\n",
      "|{66e2edb339d4c13f...|     Lionel Shriver|https://www.goodr...|We Need to Talk A...|The gripping inte...|  8302541|  7109735|   100|  63223| 14.99|   NULL|  4.08|       NULL|   NULL|   2914914|   97644|    400|           Paperback|\n",
      "|{66e2edb439d4c13f...|        R.D. Ronald|https://www.goodr...|   The Elephant Tree|Mark Fallon is an...|   966834|   773527|    98|  22107|  3.99|   NULL|  3.72|       NULL|    435|    568020|   26389|    252|           Paperback|\n",
      "|{66e2edb839d4c13f...|          Dan Brown|https://www.goodr...|   The Da Vinci Code|Alternate covers ...| 85597935| 82154334|    96| 871843|   0.0|   NULL|  3.92|       NULL|   NULL|  46850319| 1591116|    489|           Paperback|\n",
      "+--------------------+-------------------+--------------------+--------------------+--------------------+---------+---------+------+-------+------+-------+------+-----------+-------+----------+--------+-------+--------------------+\n",
      "only showing top 20 rows\n",
      "\n"
     ]
    }
   ],
   "source": [
    "#luu vao mongodb collection tb_book_clean\n",
    "df.show()"
   ]
  },
  {
   "cell_type": "code",
   "execution_count": 28,
   "metadata": {},
   "outputs": [],
   "source": [
    "df.select(\"author\").write.format(\"com.mongodb.spark.sql.DefaultSource\").mode(\"append\").option(\"uri\", mongo_ip + \"tb_author\").save()"
   ]
  },
  {
   "cell_type": "code",
   "execution_count": 29,
   "metadata": {},
   "outputs": [],
   "source": [
    "sc.stop()"
   ]
  },
  {
   "cell_type": "code",
   "execution_count": 12,
   "metadata": {},
   "outputs": [],
   "source": [
    "spark = SparkSession.builder \\\n",
    "    .appName(\"MongoDB to Spark\") \\\n",
    "    .config(\"spark.mongodb.input.uri\", \"mongodb://mymongodb:27017/db_goodread.tb_book\") \\\n",
    "    .config(\"spark.mongodb.output.uri\", \"mongodb://mymongodb:27017/db_goodread.tb_book\") \\\n",
    "    .getOrCreate()"
   ]
  },
  {
   "cell_type": "code",
   "execution_count": 14,
   "metadata": {},
   "outputs": [
    {
     "ename": "Py4JJavaError",
     "evalue": "An error occurred while calling o67.load.\n: org.apache.spark.SparkClassNotFoundException: [DATA_SOURCE_NOT_FOUND] Failed to find the data source: mongodb. Please find packages at `https://spark.apache.org/third-party-projects.html`.\r\n\tat org.apache.spark.sql.errors.QueryExecutionErrors$.dataSourceNotFoundError(QueryExecutionErrors.scala:725)\r\n\tat org.apache.spark.sql.execution.datasources.DataSource$.lookupDataSource(DataSource.scala:647)\r\n\tat org.apache.spark.sql.execution.datasources.DataSource$.lookupDataSourceV2(DataSource.scala:697)\r\n\tat org.apache.spark.sql.DataFrameReader.load(DataFrameReader.scala:208)\r\n\tat org.apache.spark.sql.DataFrameReader.load(DataFrameReader.scala:172)\r\n\tat sun.reflect.NativeMethodAccessorImpl.invoke0(Native Method)\r\n\tat sun.reflect.NativeMethodAccessorImpl.invoke(NativeMethodAccessorImpl.java:62)\r\n\tat sun.reflect.DelegatingMethodAccessorImpl.invoke(DelegatingMethodAccessorImpl.java:43)\r\n\tat java.lang.reflect.Method.invoke(Method.java:498)\r\n\tat py4j.reflection.MethodInvoker.invoke(MethodInvoker.java:244)\r\n\tat py4j.reflection.ReflectionEngine.invoke(ReflectionEngine.java:374)\r\n\tat py4j.Gateway.invoke(Gateway.java:282)\r\n\tat py4j.commands.AbstractCommand.invokeMethod(AbstractCommand.java:132)\r\n\tat py4j.commands.CallCommand.execute(CallCommand.java:79)\r\n\tat py4j.ClientServerConnection.waitForCommands(ClientServerConnection.java:182)\r\n\tat py4j.ClientServerConnection.run(ClientServerConnection.java:106)\r\n\tat java.lang.Thread.run(Thread.java:748)\r\nCaused by: java.lang.ClassNotFoundException: mongodb.DefaultSource\r\n\tat java.net.URLClassLoader.findClass(URLClassLoader.java:382)\r\n\tat java.lang.ClassLoader.loadClass(ClassLoader.java:424)\r\n\tat java.lang.ClassLoader.loadClass(ClassLoader.java:357)\r\n\tat org.apache.spark.sql.execution.datasources.DataSource$.$anonfun$lookupDataSource$5(DataSource.scala:633)\r\n\tat scala.util.Try$.apply(Try.scala:213)\r\n\tat org.apache.spark.sql.execution.datasources.DataSource$.$anonfun$lookupDataSource$4(DataSource.scala:633)\r\n\tat scala.util.Failure.orElse(Try.scala:224)\r\n\tat org.apache.spark.sql.execution.datasources.DataSource$.lookupDataSource(DataSource.scala:633)\r\n\t... 15 more\r\n",
     "output_type": "error",
     "traceback": [
      "\u001b[1;31m---------------------------------------------------------------------------\u001b[0m",
      "\u001b[1;31mPy4JJavaError\u001b[0m                             Traceback (most recent call last)",
      "Cell \u001b[1;32mIn[14], line 1\u001b[0m\n\u001b[1;32m----> 1\u001b[0m df \u001b[38;5;241m=\u001b[39m \u001b[43mspark\u001b[49m\u001b[38;5;241;43m.\u001b[39;49m\u001b[43mread\u001b[49m\u001b[38;5;241;43m.\u001b[39;49m\u001b[43mformat\u001b[49m\u001b[43m(\u001b[49m\u001b[38;5;124;43m\"\u001b[39;49m\u001b[38;5;124;43mmongodb\u001b[39;49m\u001b[38;5;124;43m\"\u001b[39;49m\u001b[43m)\u001b[49m\u001b[38;5;241;43m.\u001b[39;49m\u001b[43mload\u001b[49m\u001b[43m(\u001b[49m\u001b[43m)\u001b[49m\n",
      "File \u001b[1;32mc:\\Users\\kietn\\AppData\\Local\\Programs\\Python\\Python310\\lib\\site-packages\\pyspark\\sql\\readwriter.py:314\u001b[0m, in \u001b[0;36mDataFrameReader.load\u001b[1;34m(self, path, format, schema, **options)\u001b[0m\n\u001b[0;32m    312\u001b[0m     \u001b[38;5;28;01mreturn\u001b[39;00m \u001b[38;5;28mself\u001b[39m\u001b[38;5;241m.\u001b[39m_df(\u001b[38;5;28mself\u001b[39m\u001b[38;5;241m.\u001b[39m_jreader\u001b[38;5;241m.\u001b[39mload(\u001b[38;5;28mself\u001b[39m\u001b[38;5;241m.\u001b[39m_spark\u001b[38;5;241m.\u001b[39m_sc\u001b[38;5;241m.\u001b[39m_jvm\u001b[38;5;241m.\u001b[39mPythonUtils\u001b[38;5;241m.\u001b[39mtoSeq(path)))\n\u001b[0;32m    313\u001b[0m \u001b[38;5;28;01melse\u001b[39;00m:\n\u001b[1;32m--> 314\u001b[0m     \u001b[38;5;28;01mreturn\u001b[39;00m \u001b[38;5;28mself\u001b[39m\u001b[38;5;241m.\u001b[39m_df(\u001b[38;5;28;43mself\u001b[39;49m\u001b[38;5;241;43m.\u001b[39;49m\u001b[43m_jreader\u001b[49m\u001b[38;5;241;43m.\u001b[39;49m\u001b[43mload\u001b[49m\u001b[43m(\u001b[49m\u001b[43m)\u001b[49m)\n",
      "File \u001b[1;32mc:\\Users\\kietn\\AppData\\Local\\Programs\\Python\\Python310\\lib\\site-packages\\py4j\\java_gateway.py:1322\u001b[0m, in \u001b[0;36mJavaMember.__call__\u001b[1;34m(self, *args)\u001b[0m\n\u001b[0;32m   1316\u001b[0m command \u001b[38;5;241m=\u001b[39m proto\u001b[38;5;241m.\u001b[39mCALL_COMMAND_NAME \u001b[38;5;241m+\u001b[39m\\\n\u001b[0;32m   1317\u001b[0m     \u001b[38;5;28mself\u001b[39m\u001b[38;5;241m.\u001b[39mcommand_header \u001b[38;5;241m+\u001b[39m\\\n\u001b[0;32m   1318\u001b[0m     args_command \u001b[38;5;241m+\u001b[39m\\\n\u001b[0;32m   1319\u001b[0m     proto\u001b[38;5;241m.\u001b[39mEND_COMMAND_PART\n\u001b[0;32m   1321\u001b[0m answer \u001b[38;5;241m=\u001b[39m \u001b[38;5;28mself\u001b[39m\u001b[38;5;241m.\u001b[39mgateway_client\u001b[38;5;241m.\u001b[39msend_command(command)\n\u001b[1;32m-> 1322\u001b[0m return_value \u001b[38;5;241m=\u001b[39m \u001b[43mget_return_value\u001b[49m\u001b[43m(\u001b[49m\n\u001b[0;32m   1323\u001b[0m \u001b[43m    \u001b[49m\u001b[43manswer\u001b[49m\u001b[43m,\u001b[49m\u001b[43m \u001b[49m\u001b[38;5;28;43mself\u001b[39;49m\u001b[38;5;241;43m.\u001b[39;49m\u001b[43mgateway_client\u001b[49m\u001b[43m,\u001b[49m\u001b[43m \u001b[49m\u001b[38;5;28;43mself\u001b[39;49m\u001b[38;5;241;43m.\u001b[39;49m\u001b[43mtarget_id\u001b[49m\u001b[43m,\u001b[49m\u001b[43m \u001b[49m\u001b[38;5;28;43mself\u001b[39;49m\u001b[38;5;241;43m.\u001b[39;49m\u001b[43mname\u001b[49m\u001b[43m)\u001b[49m\n\u001b[0;32m   1325\u001b[0m \u001b[38;5;28;01mfor\u001b[39;00m temp_arg \u001b[38;5;129;01min\u001b[39;00m temp_args:\n\u001b[0;32m   1326\u001b[0m     \u001b[38;5;28;01mif\u001b[39;00m \u001b[38;5;28mhasattr\u001b[39m(temp_arg, \u001b[38;5;124m\"\u001b[39m\u001b[38;5;124m_detach\u001b[39m\u001b[38;5;124m\"\u001b[39m):\n",
      "File \u001b[1;32mc:\\Users\\kietn\\AppData\\Local\\Programs\\Python\\Python310\\lib\\site-packages\\pyspark\\errors\\exceptions\\captured.py:179\u001b[0m, in \u001b[0;36mcapture_sql_exception.<locals>.deco\u001b[1;34m(*a, **kw)\u001b[0m\n\u001b[0;32m    177\u001b[0m \u001b[38;5;28;01mdef\u001b[39;00m \u001b[38;5;21mdeco\u001b[39m(\u001b[38;5;241m*\u001b[39ma: Any, \u001b[38;5;241m*\u001b[39m\u001b[38;5;241m*\u001b[39mkw: Any) \u001b[38;5;241m-\u001b[39m\u001b[38;5;241m>\u001b[39m Any:\n\u001b[0;32m    178\u001b[0m     \u001b[38;5;28;01mtry\u001b[39;00m:\n\u001b[1;32m--> 179\u001b[0m         \u001b[38;5;28;01mreturn\u001b[39;00m f(\u001b[38;5;241m*\u001b[39ma, \u001b[38;5;241m*\u001b[39m\u001b[38;5;241m*\u001b[39mkw)\n\u001b[0;32m    180\u001b[0m     \u001b[38;5;28;01mexcept\u001b[39;00m Py4JJavaError \u001b[38;5;28;01mas\u001b[39;00m e:\n\u001b[0;32m    181\u001b[0m         converted \u001b[38;5;241m=\u001b[39m convert_exception(e\u001b[38;5;241m.\u001b[39mjava_exception)\n",
      "File \u001b[1;32mc:\\Users\\kietn\\AppData\\Local\\Programs\\Python\\Python310\\lib\\site-packages\\py4j\\protocol.py:326\u001b[0m, in \u001b[0;36mget_return_value\u001b[1;34m(answer, gateway_client, target_id, name)\u001b[0m\n\u001b[0;32m    324\u001b[0m value \u001b[38;5;241m=\u001b[39m OUTPUT_CONVERTER[\u001b[38;5;28mtype\u001b[39m](answer[\u001b[38;5;241m2\u001b[39m:], gateway_client)\n\u001b[0;32m    325\u001b[0m \u001b[38;5;28;01mif\u001b[39;00m answer[\u001b[38;5;241m1\u001b[39m] \u001b[38;5;241m==\u001b[39m REFERENCE_TYPE:\n\u001b[1;32m--> 326\u001b[0m     \u001b[38;5;28;01mraise\u001b[39;00m Py4JJavaError(\n\u001b[0;32m    327\u001b[0m         \u001b[38;5;124m\"\u001b[39m\u001b[38;5;124mAn error occurred while calling \u001b[39m\u001b[38;5;132;01m{0}\u001b[39;00m\u001b[38;5;132;01m{1}\u001b[39;00m\u001b[38;5;132;01m{2}\u001b[39;00m\u001b[38;5;124m.\u001b[39m\u001b[38;5;130;01m\\n\u001b[39;00m\u001b[38;5;124m\"\u001b[39m\u001b[38;5;241m.\u001b[39m\n\u001b[0;32m    328\u001b[0m         \u001b[38;5;28mformat\u001b[39m(target_id, \u001b[38;5;124m\"\u001b[39m\u001b[38;5;124m.\u001b[39m\u001b[38;5;124m\"\u001b[39m, name), value)\n\u001b[0;32m    329\u001b[0m \u001b[38;5;28;01melse\u001b[39;00m:\n\u001b[0;32m    330\u001b[0m     \u001b[38;5;28;01mraise\u001b[39;00m Py4JError(\n\u001b[0;32m    331\u001b[0m         \u001b[38;5;124m\"\u001b[39m\u001b[38;5;124mAn error occurred while calling \u001b[39m\u001b[38;5;132;01m{0}\u001b[39;00m\u001b[38;5;132;01m{1}\u001b[39;00m\u001b[38;5;132;01m{2}\u001b[39;00m\u001b[38;5;124m. Trace:\u001b[39m\u001b[38;5;130;01m\\n\u001b[39;00m\u001b[38;5;132;01m{3}\u001b[39;00m\u001b[38;5;130;01m\\n\u001b[39;00m\u001b[38;5;124m\"\u001b[39m\u001b[38;5;241m.\u001b[39m\n\u001b[0;32m    332\u001b[0m         \u001b[38;5;28mformat\u001b[39m(target_id, \u001b[38;5;124m\"\u001b[39m\u001b[38;5;124m.\u001b[39m\u001b[38;5;124m\"\u001b[39m, name, value))\n",
      "\u001b[1;31mPy4JJavaError\u001b[0m: An error occurred while calling o67.load.\n: org.apache.spark.SparkClassNotFoundException: [DATA_SOURCE_NOT_FOUND] Failed to find the data source: mongodb. Please find packages at `https://spark.apache.org/third-party-projects.html`.\r\n\tat org.apache.spark.sql.errors.QueryExecutionErrors$.dataSourceNotFoundError(QueryExecutionErrors.scala:725)\r\n\tat org.apache.spark.sql.execution.datasources.DataSource$.lookupDataSource(DataSource.scala:647)\r\n\tat org.apache.spark.sql.execution.datasources.DataSource$.lookupDataSourceV2(DataSource.scala:697)\r\n\tat org.apache.spark.sql.DataFrameReader.load(DataFrameReader.scala:208)\r\n\tat org.apache.spark.sql.DataFrameReader.load(DataFrameReader.scala:172)\r\n\tat sun.reflect.NativeMethodAccessorImpl.invoke0(Native Method)\r\n\tat sun.reflect.NativeMethodAccessorImpl.invoke(NativeMethodAccessorImpl.java:62)\r\n\tat sun.reflect.DelegatingMethodAccessorImpl.invoke(DelegatingMethodAccessorImpl.java:43)\r\n\tat java.lang.reflect.Method.invoke(Method.java:498)\r\n\tat py4j.reflection.MethodInvoker.invoke(MethodInvoker.java:244)\r\n\tat py4j.reflection.ReflectionEngine.invoke(ReflectionEngine.java:374)\r\n\tat py4j.Gateway.invoke(Gateway.java:282)\r\n\tat py4j.commands.AbstractCommand.invokeMethod(AbstractCommand.java:132)\r\n\tat py4j.commands.CallCommand.execute(CallCommand.java:79)\r\n\tat py4j.ClientServerConnection.waitForCommands(ClientServerConnection.java:182)\r\n\tat py4j.ClientServerConnection.run(ClientServerConnection.java:106)\r\n\tat java.lang.Thread.run(Thread.java:748)\r\nCaused by: java.lang.ClassNotFoundException: mongodb.DefaultSource\r\n\tat java.net.URLClassLoader.findClass(URLClassLoader.java:382)\r\n\tat java.lang.ClassLoader.loadClass(ClassLoader.java:424)\r\n\tat java.lang.ClassLoader.loadClass(ClassLoader.java:357)\r\n\tat org.apache.spark.sql.execution.datasources.DataSource$.$anonfun$lookupDataSource$5(DataSource.scala:633)\r\n\tat scala.util.Try$.apply(Try.scala:213)\r\n\tat org.apache.spark.sql.execution.datasources.DataSource$.$anonfun$lookupDataSource$4(DataSource.scala:633)\r\n\tat scala.util.Failure.orElse(Try.scala:224)\r\n\tat org.apache.spark.sql.execution.datasources.DataSource$.lookupDataSource(DataSource.scala:633)\r\n\t... 15 more\r\n"
     ]
    }
   ],
   "source": [
    "df = spark.read.format(\"mongodb\").load()"
   ]
  }
 ],
 "metadata": {
  "kernelspec": {
   "display_name": "Python 3",
   "language": "python",
   "name": "python3"
  },
  "language_info": {
   "codemirror_mode": {
    "name": "ipython",
    "version": 3
   },
   "file_extension": ".py",
   "mimetype": "text/x-python",
   "name": "python",
   "nbconvert_exporter": "python",
   "pygments_lexer": "ipython3",
   "version": "3.10.0"
  }
 },
 "nbformat": 4,
 "nbformat_minor": 2
}
